{
 "cells": [
  {
   "attachments": {},
   "cell_type": "markdown",
   "metadata": {},
   "source": [
    "# File permissions\n",
    "\n",
    "In this module we'll discuss file permissions as they pertain to a Linux operating system.\n",
    "We'll demonstrate how to change permissions and ownership of files, as well as overriding\n",
    "the default permissions set a user may have configured.  \n",
    "\n",
    "As one word of warning before proceeding, IHME's system administrators have configured\n",
    "permission and ownership to be only alter-able by the owner of a file.  You will not be able\n",
    "to change permissions on a file you do not own, nor will you be able to change ownership of a\n",
    "file you do now own."
   ]
  },
  {
   "attachments": {},
   "cell_type": "markdown",
   "metadata": {},
   "source": [
    "## Change file permissions\n",
    "\n",
    "File permissions come in three groups: the owner's permissions, the group's permissions, and\n",
    "everyone else's permissions.  I'll save the concrete explanation for some of the external\n",
    "resources, but file permissions can be changed using `os.chmod` which mirrors the Linux `chmod`\n",
    "functionality."
   ]
  },
  {
   "cell_type": "code",
   "execution_count": null,
   "metadata": {},
   "outputs": [],
   "source": [
    "import os\n",
    "\n",
    "os.chmod(path=\".\", mode=0o755)  # 755 means the user can read/write/execute, everyone else can read/execute\n",
    "os.chmod(path=\".\", mode=0o777)  # 777 means everyone can read/write/execute"
   ]
  },
  {
   "attachments": {},
   "cell_type": "markdown",
   "metadata": {},
   "source": [
    "# Change file ownership\n",
    "\n",
    "FIle ownership is much simpler and can be altered using `os.chown` which mirrors the Linux\n",
    "`chown` functionality."
   ]
  },
  {
   "cell_type": "code",
   "execution_count": null,
   "metadata": {},
   "outputs": [],
   "source": [
    "import os\n",
    "\n",
    "# This line changes the user and group ownership to the current user's IDs\n",
    "os.chown(path=\"./permissions.ipynb\", uid=os.getuid(), gid=os.getgid())"
   ]
  },
  {
   "attachments": {},
   "cell_type": "markdown",
   "metadata": {},
   "source": [
    "## Editing default permissions\n",
    "\n",
    "In a Linux system, users will often set a `umask` in a configuration file, ensuring that anything\n",
    "they create has some default set of permissions.  For a user, a `umask` is beneficial when working\n",
    "in isolation, but in a team setting, too strict of a `umask` can be an annoyance.  \n",
    "\n",
    "One way to get around a user's `umask` setting is to temporarily overwrite it using `os.umask`.  \n",
    "\n",
    "On the first call to `os.umask`, you should set the permissions you want to create things with,\n",
    "then before you finish you should call it again reinstating the user's original settings."
   ]
  },
  {
   "cell_type": "code",
   "execution_count": null,
   "metadata": {},
   "outputs": [],
   "source": [
    "import os\n",
    "\n",
    "# This returns the original umask and overrides it with a very permissive setting\n",
    "original_umask = os.umask(0o777)\n",
    "\n",
    "# Create some files or something...\n",
    "# ...\n",
    "\n",
    "# This resets the umask value to the original setting\n",
    "os.umask(original_umask)"
   ]
  },
  {
   "attachments": {},
   "cell_type": "markdown",
   "metadata": {},
   "source": [
    "# External Resources\n",
    "\n",
    "Linux file permissions explained: https://www.redhat.com/sysadmin/linux-file-permissions-explained  \n",
    "What is a umask: https://www.cyberciti.biz/tips/understanding-linux-unix-umask-value-usage.html"
   ]
  }
 ],
 "metadata": {
  "kernelspec": {
   "display_name": "Python 3",
   "language": "python",
   "name": "python3"
  },
  "language_info": {
   "codemirror_mode": {
    "name": "ipython",
    "version": 3
   },
   "file_extension": ".py",
   "mimetype": "text/x-python",
   "name": "python",
   "nbconvert_exporter": "python",
   "pygments_lexer": "ipython3",
   "version": "3.10.11"
  },
  "orig_nbformat": 4
 },
 "nbformat": 4,
 "nbformat_minor": 2
}
