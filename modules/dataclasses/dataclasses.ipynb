{
 "cells": [
  {
   "attachments": {},
   "cell_type": "markdown",
   "metadata": {},
   "source": [
    "# Dataclasses\n",
    "\n",
    "## What are they?\n",
    "Simple data structures encapsulating related pieces of information.\n",
    "\n",
    "## Why would you use a dataclass?\n",
    "To abstract certain related attributes into a single container, making it easier to pass around\n",
    "to separate functions and access named attributes."
   ]
  },
  {
   "attachments": {},
   "cell_type": "markdown",
   "metadata": {},
   "source": [
    "# Class representing a location within a hierarchy\n",
    "\n",
    "In this example, we'll demonstrate how you could encapsulate information related to a location\n",
    "within a hierarchy of locations.  Imagine each location has an ID and a name, and can additionally\n",
    "have a parent LocationMetadata.\n",
    "\n",
    "To define a dataclass, use the `@dataclass` decorator above a class you've defined, and simply\n",
    "add the attributes you wish the class to contain along with some typing information.  Note that\n",
    "the type annotations are not required, but help Python make inferences about what kind of\n",
    "data is allowed to be stored at a given attribute.  \n",
    "\n",
    "https://docs.python.org/3.10/library/dataclasses.html#dataclasses.dataclass"
   ]
  },
  {
   "cell_type": "code",
   "execution_count": 12,
   "metadata": {},
   "outputs": [],
   "source": [
    "from __future__ import annotations\n",
    "\n",
    "from dataclasses import dataclass\n",
    "from typing import Optional, Set\n",
    "\n",
    "\n",
    "@dataclass\n",
    "class LocationMetatada:\n",
    "    \"\"\"Metadata defining a location within a hierarchy.\"\"\"\n",
    "\n",
    "    id: int\n",
    "    name: str\n",
    "    parent: Optional[LocationMetatada] = None"
   ]
  },
  {
   "attachments": {},
   "cell_type": "markdown",
   "metadata": {},
   "source": [
    "With our dataclass defined, we can create instances of it like any other class, and begin constructing\n",
    "a hierarchy!"
   ]
  },
  {
   "cell_type": "code",
   "execution_count": 11,
   "metadata": {},
   "outputs": [],
   "source": [
    "global_location = LocationMetatada(id=1, name=\"Global\", parent=None)\n",
    "americas = LocationMetatada(id=2, name=\"Americas\", parent=global_location)\n",
    "asia = LocationMetatada(id=3, name=\"Asia\", parent=global_location)"
   ]
  },
  {
   "attachments": {},
   "cell_type": "markdown",
   "metadata": {},
   "source": [
    "## Immutable dataclasses\n",
    "\n",
    "By default, a dataclass is mutable meaning after it's instantiation any attributes can be modified.\n",
    "Mutability has pro's and con's, and in some situations you want to enforce **immutability**, meaning\n",
    "after an instance of a dataclass has been created it cannot be modified.  \n",
    "\n",
    "The `@dataclass` decorator supports immutable declaration with the `frozen` keyword argument.\n",
    "Below we will define the same LocationMetadata dataclass as before, this time enforcing\n",
    "immutability."
   ]
  },
  {
   "cell_type": "code",
   "execution_count": 14,
   "metadata": {},
   "outputs": [],
   "source": [
    "from __future__ import annotations\n",
    "\n",
    "from dataclasses import dataclass\n",
    "from typing import Optional, Set\n",
    "\n",
    "\n",
    "@dataclass(frozen=True)\n",
    "class LocationMetatada:\n",
    "    \"\"\"Metadata defining a location within a hierarchy.\"\"\"\n",
    "\n",
    "    id: int\n",
    "    name: str\n",
    "    parent: Optional[LocationMetatada] = None"
   ]
  },
  {
   "attachments": {},
   "cell_type": "markdown",
   "metadata": {},
   "source": [
    "With our immutable dataclass, after an object has been instantiated, an error will be raised\n",
    "if someone tries to alter the attributes of the dataclass."
   ]
  },
  {
   "cell_type": "code",
   "execution_count": 15,
   "metadata": {},
   "outputs": [
    {
     "ename": "FrozenInstanceError",
     "evalue": "cannot assign to field 'id'",
     "output_type": "error",
     "traceback": [
      "\u001b[0;31m---------------------------------------------------------------------------\u001b[0m",
      "\u001b[0;31mFrozenInstanceError\u001b[0m                       Traceback (most recent call last)",
      "Cell \u001b[0;32mIn[15], line 3\u001b[0m\n\u001b[1;32m      1\u001b[0m global_location \u001b[39m=\u001b[39m LocationMetatada(\u001b[39mid\u001b[39m\u001b[39m=\u001b[39m\u001b[39m1\u001b[39m, name\u001b[39m=\u001b[39m\u001b[39m\"\u001b[39m\u001b[39mGlobal\u001b[39m\u001b[39m\"\u001b[39m, parent\u001b[39m=\u001b[39m\u001b[39mNone\u001b[39;00m)\n\u001b[0;32m----> 3\u001b[0m global_location\u001b[39m.\u001b[39;49mid \u001b[39m=\u001b[39m \u001b[39m100\u001b[39m\n",
      "File \u001b[0;32m<string>:4\u001b[0m, in \u001b[0;36m__setattr__\u001b[0;34m(self, name, value)\u001b[0m\n",
      "\u001b[0;31mFrozenInstanceError\u001b[0m: cannot assign to field 'id'"
     ]
    }
   ],
   "source": [
    "global_location = LocationMetatada(id=1, name=\"Global\", parent=None)\n",
    "\n",
    "global_location.id = 100"
   ]
  },
  {
   "attachments": {},
   "cell_type": "markdown",
   "metadata": {},
   "source": [
    "## User-defined functions\n",
    "\n",
    "Sometimes when defining a dataclass you might want to add some custom functionality which\n",
    "the `@dataclass` decorator itself doesn't provide.  One of the great things about dataclasses\n",
    "is that they allow user-defined functions to be declared just like a normal class!\n",
    "\n",
    "Let's use the same LocationMetadata dataclass as before, this time adding a function which\n",
    "prints out a description of the information held in the class."
   ]
  },
  {
   "cell_type": "code",
   "execution_count": 16,
   "metadata": {},
   "outputs": [],
   "source": [
    "from __future__ import annotations\n",
    "\n",
    "from dataclasses import dataclass\n",
    "from typing import Optional, Set\n",
    "\n",
    "\n",
    "@dataclass\n",
    "class LocationMetatada:\n",
    "    \"\"\"Metadata defining a location within a hierarchy.\"\"\"\n",
    "\n",
    "    id: int\n",
    "    name: str\n",
    "    parent: Optional[LocationMetatada] = None\n",
    "\n",
    "    def describe_contents(self) -> str:\n",
    "        return (\n",
    "            f\"I am a ``LocationMetadata`` instance!  I represent location_id {self.id}, \"\n",
    "            f\"'{self.name}'.\"\n",
    "        )"
   ]
  },
  {
   "cell_type": "code",
   "execution_count": 17,
   "metadata": {},
   "outputs": [
    {
     "data": {
      "text/plain": [
       "\"I am a ``LocationMetadata`` instance!  I represent location_id 1, 'Global'.\""
      ]
     },
     "execution_count": 17,
     "metadata": {},
     "output_type": "execute_result"
    }
   ],
   "source": [
    "global_location = LocationMetatada(id=1, name=\"Global\", parent=None)\n",
    "global_location.describe_contents()"
   ]
  }
 ],
 "metadata": {
  "kernelspec": {
   "display_name": "Python 3",
   "language": "python",
   "name": "python3"
  },
  "language_info": {
   "codemirror_mode": {
    "name": "ipython",
    "version": 3
   },
   "file_extension": ".py",
   "mimetype": "text/x-python",
   "name": "python",
   "nbconvert_exporter": "python",
   "pygments_lexer": "ipython3",
   "version": "3.10.11"
  },
  "orig_nbformat": 4
 },
 "nbformat": 4,
 "nbformat_minor": 2
}
