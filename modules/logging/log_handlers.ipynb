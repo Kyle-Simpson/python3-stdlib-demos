{
 "cells": [
  {
   "attachments": {},
   "cell_type": "markdown",
   "metadata": {},
   "source": [
    "# Log handlers\n",
    "\n",
    "In the world of logging, there are handlers and formatters.  As is described in `log_formatters.ipynb`\n",
    "a formatter defines how a log line will look, while a log handler defines where a log line\n",
    "will go.  You can send logs to many different places, and in this module we'll demonstrate logging\n",
    "to the console and logging to a file."
   ]
  },
  {
   "attachments": {},
   "cell_type": "markdown",
   "metadata": {},
   "source": [
    "## Logging to the console\n",
    "\n",
    "In many cases, you may want to output messages to the user which display in their terminal. \n",
    "To send logs to the console, you'll define a `StreamHandler` and point it to `sys.stdout`\n",
    "(the standard output).  \n",
    "\n",
    "https://docs.python.org/3.10/library/logging.handlers.html#logging.StreamHandler"
   ]
  },
  {
   "cell_type": "code",
   "execution_count": null,
   "metadata": {},
   "outputs": [],
   "source": [
    "import logging\n",
    "import sys\n",
    "\n",
    "console_handler = logging.StreamHandler(sys.stdout)"
   ]
  },
  {
   "attachments": {},
   "cell_type": "markdown",
   "metadata": {},
   "source": [
    "With a handler created, add it to a logger instance and watch it print to the console!"
   ]
  },
  {
   "cell_type": "code",
   "execution_count": null,
   "metadata": {},
   "outputs": [],
   "source": [
    "logger = logging.getLogger()\n",
    "logger.setLevel(\"INFO\")\n",
    "\n",
    "logger.addHandler(console_handler)\n",
    "\n",
    "logger.info(\"This message will go to the console\")"
   ]
  },
  {
   "attachments": {},
   "cell_type": "markdown",
   "metadata": {},
   "source": [
    "## Logging to a file\n",
    "\n",
    "In many cases you may want to output messages to a file.  To send logs to a file, you'll define\n",
    "a `FileHandler` and point it to a specific file you wish to create or append to.  \n",
    "\n",
    "https://docs.python.org/3.10/library/logging.handlers.html#logging.FileHandler"
   ]
  },
  {
   "cell_type": "code",
   "execution_count": null,
   "metadata": {},
   "outputs": [],
   "source": [
    "import logging\n",
    "\n",
    "file_handler = logging.FileHandler(filename=\"./demo-log-file.txt\")"
   ]
  },
  {
   "attachments": {},
   "cell_type": "markdown",
   "metadata": {},
   "source": [
    "Once the handler is defined, add it to a logger instance just like we did with the `StreamHandler`."
   ]
  },
  {
   "cell_type": "code",
   "execution_count": null,
   "metadata": {},
   "outputs": [],
   "source": [
    "logger = logging.getLogger()\n",
    "logger.setLevel(\"INFO\")\n",
    "\n",
    "logger.addHandler(file_handler)\n",
    "\n",
    "logger.info(\"This message will go to a file\")"
   ]
  }
 ],
 "metadata": {
  "kernelspec": {
   "display_name": "Python 3",
   "language": "python",
   "name": "python3"
  },
  "language_info": {
   "codemirror_mode": {
    "name": "ipython",
    "version": 3
   },
   "file_extension": ".py",
   "mimetype": "text/x-python",
   "name": "python",
   "nbconvert_exporter": "python",
   "pygments_lexer": "ipython3",
   "version": "3.10.11"
  },
  "orig_nbformat": 4
 },
 "nbformat": 4,
 "nbformat_minor": 2
}
