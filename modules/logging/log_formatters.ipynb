{
 "cells": [
  {
   "attachments": {},
   "cell_type": "markdown",
   "metadata": {},
   "source": [
    "# Log formatters\n",
    "\n",
    "In the world of logging, there are handlers and formatters.  As is described in `log_handlers.ipynb`\n",
    "a handler defines where a log line will go, while a log formatter defines how a log line will look.\n",
    "In this module we'll demonstrate a few ways you can configure your log formats."
   ]
  },
  {
   "attachments": {},
   "cell_type": "markdown",
   "metadata": {},
   "source": [
    "## Adding the level to a log\n",
    "\n",
    "As we know, log messages have levels of severity ranging from DEBUG to ERROR.  In many cases\n",
    "it's helpful to be able to look at a log and determine what level of severity it represents.\n",
    "Luckily for us, the `Formatter` object extends some functionality through the `LogRecord`\n",
    "attributes to insert some helpful information.  \n",
    "\n",
    "https://docs.python.org/3.10/library/logging.html#logrecord-attributes"
   ]
  },
  {
   "cell_type": "code",
   "execution_count": null,
   "metadata": {},
   "outputs": [],
   "source": [
    "import logging\n",
    "import sys\n",
    "\n",
    "# This format puts the level name in brackets, adds a colon, then prints whatever message\n",
    "# is being emitted\n",
    "format = logging.Formatter(\"[%(levelname)-5.5s]: %(message)s\")"
   ]
  },
  {
   "attachments": {},
   "cell_type": "markdown",
   "metadata": {},
   "source": [
    "Then, to add the formatter to a logger, we must add it to a handler first, then add the handler\n",
    "to the logger."
   ]
  },
  {
   "cell_type": "code",
   "execution_count": null,
   "metadata": {},
   "outputs": [],
   "source": [
    "logger = logging.getLogger()\n",
    "logger.setLevel(\"INFO\")\n",
    "\n",
    "console_handler = logging.StreamHandler(sys.stdout)\n",
    "\n",
    "console_handler.setFormatter(format)\n",
    "logger.addHandler(console_handler)"
   ]
  },
  {
   "cell_type": "code",
   "execution_count": null,
   "metadata": {},
   "outputs": [],
   "source": [
    "logger.info(\"An INFO level log\")\n",
    "logger.warning(\"A WARNING level log\")"
   ]
  },
  {
   "attachments": {},
   "cell_type": "markdown",
   "metadata": {},
   "source": [
    "## Add the date to a log\n",
    "\n",
    "As another helpful piece of information, we can add the date to a log line using the `asctime`\n",
    "attribute.  Along with this addition, we can specify a format we want to use for the date and\n",
    "time, or just accept the default if we don't care."
   ]
  },
  {
   "cell_type": "code",
   "execution_count": null,
   "metadata": {},
   "outputs": [],
   "source": [
    "import logging\n",
    "import sys\n",
    "\n",
    "# This adds the time before the level, in a specific format\n",
    "format = logging.Formatter(\n",
    "    \"[%(asctime)s] [%(levelname)-5.5s]: %(message)s\",\n",
    "    datefmt=\"%Y-%m-%d %I:%M:%S%p\",\n",
    ")\n",
    "\n",
    "logger = logging.getLogger()\n",
    "logger.setLevel(\"DEBUG\")\n",
    "\n",
    "console_handler = logging.StreamHandler(sys.stdout)\n",
    "\n",
    "console_handler.setFormatter(format)\n",
    "logger.addHandler(console_handler)"
   ]
  },
  {
   "cell_type": "code",
   "execution_count": null,
   "metadata": {},
   "outputs": [],
   "source": [
    "logger.debug(\"A DEBUG level log\")\n",
    "logger.info(\"An INFO level log\")"
   ]
  }
 ],
 "metadata": {
  "kernelspec": {
   "display_name": "Python 3",
   "language": "python",
   "name": "python3"
  },
  "language_info": {
   "codemirror_mode": {
    "name": "ipython",
    "version": 3
   },
   "file_extension": ".py",
   "mimetype": "text/x-python",
   "name": "python",
   "nbconvert_exporter": "python",
   "pygments_lexer": "ipython3",
   "version": "3.10.11"
  },
  "orig_nbformat": 4
 },
 "nbformat": 4,
 "nbformat_minor": 2
}
