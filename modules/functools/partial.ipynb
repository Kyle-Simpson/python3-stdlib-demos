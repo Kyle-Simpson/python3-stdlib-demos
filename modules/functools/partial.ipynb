{
 "cells": [
  {
   "attachments": {},
   "cell_type": "markdown",
   "metadata": {},
   "source": [
    "# Partial functions\n",
    "\n",
    "Although it is generally thought of as an object-oriented language, Python supports a number of functional programming paradigms.  One very powerful paradigm is partial function generation.  \n",
    "\n",
    "A partial function is created by freezing some pre-supplied keyword arguments as default specifications on a function you would have called otherwise.  \n",
    "\n",
    "In the examples below, we'll look at what submitting a job to a theoretical cluster would look like with and without the use of a partial function.  \n",
    "\n",
    "https://docs.python.org/3.10/library/functools.html#functools.partial"
   ]
  },
  {
   "attachments": {},
   "cell_type": "markdown",
   "metadata": {},
   "source": [
    "## Functions and variables shared by the examples"
   ]
  },
  {
   "cell_type": "code",
   "execution_count": 8,
   "metadata": {},
   "outputs": [],
   "source": [
    "# Define default values each job will use for submission\n",
    "default_memory_gb = 10\n",
    "default_num_cores = 1\n",
    "default_runtime_hhmmss = \"12:00:00\"\n",
    "\n",
    "\n",
    "# Define the function which submits jobs to a theoretical cluster\n",
    "def job_submission_function(\n",
    "    script: str,\n",
    "    memory_gb: int,\n",
    "    num_cores: int,\n",
    "    runtime_hhmmss: str,\n",
    ") -> None:\n",
    "    \"\"\"Launch a job on a cluster.\"\"\"\n",
    "    print(\n",
    "        f\"Launching a job with {memory_gb}GB and {num_cores} cores \"\n",
    "        f\"which will run for {runtime_hhmmss}. It will run the following \"\n",
    "        f\"command: {script}.\"\n",
    "    )"
   ]
  },
  {
   "attachments": {},
   "cell_type": "markdown",
   "metadata": {},
   "source": [
    "## Non-partial example\n",
    "\n",
    "In this example we'll see what job submission would look like without the use of a partial function."
   ]
  },
  {
   "cell_type": "code",
   "execution_count": 9,
   "metadata": {},
   "outputs": [
    {
     "name": "stdout",
     "output_type": "stream",
     "text": [
      "Launching a job with 10GB and 1 cores which will run for 12:00:00. It will run the following command: run job 1.\n",
      "Launching a job with 10GB and 1 cores which will run for 12:00:00. It will run the following command: run job 2.\n",
      "Launching a job with 10GB and 1 cores which will run for 12:00:00. It will run the following command: run job 3.\n"
     ]
    }
   ],
   "source": [
    "def orchestration_function() -> None:\n",
    "    \"\"\"Submit a bunch of jobs.\"\"\"\n",
    "    # Submit each job using the job_submission_function. Note that\n",
    "    # each call passes the same default specifications, making\n",
    "    # out code a bit redundant and longer than it needs to be\n",
    "    job_submission_function(\n",
    "        script=\"run job 1\",\n",
    "        memory_gb=default_memory_gb,\n",
    "        num_cores=default_num_cores,\n",
    "        runtime_hhmmss=default_runtime_hhmmss,\n",
    "    )\n",
    "    job_submission_function(\n",
    "        script=\"run job 2\",\n",
    "        memory_gb=default_memory_gb,\n",
    "        num_cores=default_num_cores,\n",
    "        runtime_hhmmss=default_runtime_hhmmss,\n",
    "    )\n",
    "    job_submission_function(\n",
    "        script=\"run job 3\",\n",
    "        memory_gb=default_memory_gb,\n",
    "        num_cores=default_num_cores,\n",
    "        runtime_hhmmss=default_runtime_hhmmss,\n",
    "    )\n",
    "\n",
    "\n",
    "if __name__ == \"__main__\":\n",
    "    orchestration_function()"
   ]
  },
  {
   "attachments": {},
   "cell_type": "markdown",
   "metadata": {},
   "source": [
    "## Partial example\n",
    "\n",
    "In this example, we'll use `functools.partial` to complete the same task as above and observe how it shortens our code."
   ]
  },
  {
   "cell_type": "code",
   "execution_count": 10,
   "metadata": {},
   "outputs": [
    {
     "name": "stdout",
     "output_type": "stream",
     "text": [
      "Launching a job with 10GB and 1 cores which will run for 12:00:00. It will run the following command: run job 1.\n",
      "Launching a job with 10GB and 1 cores which will run for 12:00:00. It will run the following command: run job 2.\n",
      "Launching a job with 10GB and 1 cores which will run for 12:00:00. It will run the following command: run job 3.\n"
     ]
    }
   ],
   "source": [
    "from functools import partial\n",
    "\n",
    "def orchestration_function() -> None:\n",
    "    \"\"\"Submit a bunch of jobs.\"\"\"\n",
    "    # Create the partial function\n",
    "    partial_job_submission_function = partial(\n",
    "        # The first argument is the function to use as a stub\n",
    "        job_submission_function,\n",
    "        # All other arguments should be keyword args you would\n",
    "        # have otherwise provided\n",
    "        memory_gb=default_memory_gb,\n",
    "        num_cores=default_num_cores,\n",
    "        runtime_hhmmss=default_runtime_hhmmss,\n",
    "    )\n",
    "\n",
    "    # Call the partial function like any other function, passing\n",
    "    # in all other information it needs\n",
    "    partial_job_submission_function(script=\"run job 1\")\n",
    "    partial_job_submission_function(script=\"run job 2\")\n",
    "    partial_job_submission_function(script=\"run job 3\")\n",
    "\n",
    "\n",
    "if __name__ == \"__main__\":\n",
    "    orchestration_function()"
   ]
  },
  {
   "cell_type": "code",
   "execution_count": null,
   "metadata": {},
   "outputs": [],
   "source": []
  }
 ],
 "metadata": {
  "kernelspec": {
   "display_name": "Python 3",
   "language": "python",
   "name": "python3"
  },
  "language_info": {
   "codemirror_mode": {
    "name": "ipython",
    "version": 3
   },
   "file_extension": ".py",
   "mimetype": "text/x-python",
   "name": "python",
   "nbconvert_exporter": "python",
   "pygments_lexer": "ipython3",
   "version": "3.10.0"
  },
  "orig_nbformat": 4
 },
 "nbformat": 4,
 "nbformat_minor": 2
}
