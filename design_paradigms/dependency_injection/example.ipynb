{
 "cells": [
  {
   "attachments": {},
   "cell_type": "markdown",
   "metadata": {},
   "source": [
    "# Dependency Injection\n",
    "\n",
    "Dependency injection is a design pattern in which an object or function recieves another object or function that it depends on.  Dependency injection aims to separate the concerns of object definition and use, allowing a piece of code which requires some outside functionality to know nothing about the dependent implementation and instead just use the functionality.  \n",
    "\n",
    "In the examples below, we'll take a look at how we could write information to disc based on a user's desired file format.  \n",
    "\n",
    "https://en.wikipedia.org/wiki/Dependency_injection"
   ]
  },
  {
   "attachments": {},
   "cell_type": "markdown",
   "metadata": {},
   "source": [
    "## Functions and variables shared by the examples"
   ]
  },
  {
   "cell_type": "code",
   "execution_count": 9,
   "metadata": {},
   "outputs": [],
   "source": [
    "from typing import List\n",
    "\n",
    "\n",
    "def data_transform(data: List[int]) -> List[int]:\n",
    "    \"\"\"Do some arbitrary transformation.\"\"\"\n",
    "    return [val + 1 for val in data]"
   ]
  },
  {
   "attachments": {},
   "cell_type": "markdown",
   "metadata": {},
   "source": [
    "## Example without dependency injection\n",
    "\n",
    "In this example we'll see how we could write some data to disc based on a user-input string denoting which file format they'd like to use.  Here you'll see one of the major draw-backs to this approach where the coder must: 1) get the string correct in order to save a file as they expect, 2) know the formats which are supported, 3) maintain the multiple saving options as part of their data processing code (not ideal separation of concerns)."
   ]
  },
  {
   "cell_type": "code",
   "execution_count": 11,
   "metadata": {},
   "outputs": [],
   "source": [
    "import json\n",
    "import pickle\n",
    "\n",
    "\n",
    "def process_data(file_format: str) -> None:\n",
    "    \"\"\"Process some input data and write it to disc with a given file format.\"\"\"\n",
    "    data = [1, 2, 3, 4]\n",
    "\n",
    "    # Do some data transformation\n",
    "    data = data_transform(data)\n",
    "\n",
    "    # Write the data to disc\n",
    "    if file_format == \"json\":\n",
    "        with open(\"some_file.json\", \"w\") as f:\n",
    "            json.dumps(data)\n",
    "    elif file_format == \"pickle\":\n",
    "        with open(\"some_file.pkl\", \"w\") as f:\n",
    "            pickle.dumps(data)\n",
    "    elif file_format == \"txt\":\n",
    "        with open(\"some_file.txt\", \"w\") as f:\n",
    "            f.write(data)\n",
    "\n",
    "\n",
    "if __name__ == \"__main__\":\n",
    "    process_data(file_format=\"pickle\")"
   ]
  },
  {
   "attachments": {},
   "cell_type": "markdown",
   "metadata": {},
   "source": [
    "## Example with dependency injection\n",
    "\n",
    "In this example we'll see how we can write any number of functions which write data to disc and pass those functions to the data processing code, rather than have the data processing code know how to write data to different file types."
   ]
  },
  {
   "cell_type": "code",
   "execution_count": 12,
   "metadata": {},
   "outputs": [],
   "source": [
    "import json\n",
    "import pickle\n",
    "from typing import Callable\n",
    "\n",
    "\n",
    "def write_json(data: List[int]) -> None:\n",
    "    \"\"\"Save ``data`` as JSON.\"\"\"\n",
    "    with open(\"some_file.json\", \"w\") as f:\n",
    "        json.dumps(data)\n",
    "\n",
    "\n",
    "def write_pickle(data: List[int]) -> None:\n",
    "    \"\"\"Save ``data`` as pickle.\"\"\"\n",
    "    with open(\"some_file.pkl\", \"w\") as f:\n",
    "        pickle.dumps(data)\n",
    "\n",
    "\n",
    "def write_text(data: List[int]) -> None:\n",
    "    \"\"\"Save ``data`` as plain text.\"\"\"\n",
    "    with open(\"some_file.txt\", \"w\") as f:\n",
    "        f.write(data)\n",
    "\n",
    "\n",
    "def process_data(write_file_fn: Callable) -> None:\n",
    "    \"\"\"Process some input data and write it to disc with a given file format.\"\"\"\n",
    "    data = [1, 2, 3, 4]\n",
    "\n",
    "    # Do some data transformation\n",
    "    data = data_transform(data)\n",
    "\n",
    "    # Write the data to disc\n",
    "    write_file_fn(data)\n",
    "\n",
    "\n",
    "if __name__ == \"__main__\":\n",
    "    process_data(write_file_fn=write_pickle)"
   ]
  }
 ],
 "metadata": {
  "kernelspec": {
   "display_name": "Python 3",
   "language": "python",
   "name": "python3"
  },
  "language_info": {
   "codemirror_mode": {
    "name": "ipython",
    "version": 3
   },
   "file_extension": ".py",
   "mimetype": "text/x-python",
   "name": "python",
   "nbconvert_exporter": "python",
   "pygments_lexer": "ipython3",
   "version": "3.10.0"
  },
  "orig_nbformat": 4
 },
 "nbformat": 4,
 "nbformat_minor": 2
}
